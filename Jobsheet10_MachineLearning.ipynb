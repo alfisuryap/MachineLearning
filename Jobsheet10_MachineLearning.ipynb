{
  "nbformat": 4,
  "nbformat_minor": 0,
  "metadata": {
    "colab": {
      "provenance": [],
      "authorship_tag": "ABX9TyNcPECiRs/gbBI0xSCkBr5e",
      "include_colab_link": true
    },
    "kernelspec": {
      "name": "python3",
      "display_name": "Python 3"
    },
    "language_info": {
      "name": "python"
    }
  },
  "cells": [
    {
      "cell_type": "markdown",
      "metadata": {
        "id": "view-in-github",
        "colab_type": "text"
      },
      "source": [
        "<a href=\"https://colab.research.google.com/github/alfisuryap/MachineLearning/blob/main/Jobsheet10_MachineLearning.ipynb\" target=\"_parent\"><img src=\"https://colab.research.google.com/assets/colab-badge.svg\" alt=\"Open In Colab\"/></a>"
      ]
    },
    {
      "cell_type": "markdown",
      "source": [
        "# **Jobsheet 10: Recurrent Neural Network (RNN)**"
      ],
      "metadata": {
        "id": "-DZ-u_blFi8H"
      }
    },
    {
      "cell_type": "markdown",
      "source": [
        "Nama: Alfi Surya Pratama\n",
        "\n",
        "NIM: 2141720075\n",
        "\n",
        "Kelas: TI-3D\n",
        "\n",
        "Mata Kuliah: Machine Learning"
      ],
      "metadata": {
        "id": "Acv4JALtFlvC"
      }
    },
    {
      "cell_type": "markdown",
      "source": [
        "## **Praktikum 1: RNN untuk Analisis Sentimen**"
      ],
      "metadata": {
        "id": "k8Dc77SXFozX"
      }
    },
    {
      "cell_type": "markdown",
      "source": [
        "### **Setup**"
      ],
      "metadata": {
        "id": "LhQt2jsJF2WC"
      }
    },
    {
      "cell_type": "code",
      "source": [
        "import numpy as np\n",
        "import tensorflow_datasets as tfds\n",
        "import tensorflow as tf\n",
        "\n",
        "tfds.disable_progress_bar()"
      ],
      "metadata": {
        "id": "uDyp0n6ZF3lb"
      },
      "execution_count": 1,
      "outputs": []
    },
    {
      "cell_type": "code",
      "source": [
        "import matplotlib.pyplot as plt\n",
        "\n",
        "def plot_graphs(history, metric):\n",
        "    plt.plot(history.history[metric])\n",
        "    plt.plot(history.history['val_'+metric], '')\n",
        "    plt.xlabel(\"Epochs\")\n",
        "    plt.ylabel(metric)\n",
        "    plt.legend([metric, 'val_'+metric])"
      ],
      "metadata": {
        "id": "FmDqSPk8F5n8"
      },
      "execution_count": 2,
      "outputs": []
    },
    {
      "cell_type": "markdown",
      "source": [
        "### **Setup Input Pipeline**"
      ],
      "metadata": {
        "id": "jjAuV0X5Fz6D"
      }
    },
    {
      "cell_type": "markdown",
      "source": [
        "Dataset ulasan film IMDB adalah kumpulan data klasifikasi biner—semua ulasan memiliki sentimen positif atau negatif.\n",
        "\n",
        "Download dataset menggunakan [TFDS](https://www.tensorflow.org/datasets). Lihat [loading text tutorial ](https://www.tensorflow.org/tutorials/load_data/text)jika ingin me load data secara manual"
      ],
      "metadata": {
        "id": "TnB2CILiGQCT"
      }
    },
    {
      "cell_type": "code",
      "source": [
        "dataset, info = tfds.load('imdb_reviews', with_info=True,\n",
        "                          as_supervised=True)\n",
        "train_dataset, test_dataset = dataset['train'], dataset['test']\n",
        "\n",
        "train_dataset.element_spec"
      ],
      "metadata": {
        "id": "cS45dcoXGPuT",
        "outputId": "973e99ef-3ef8-41e3-8bb5-dd3ccd9e0e61",
        "colab": {
          "base_uri": "https://localhost:8080/"
        }
      },
      "execution_count": 3,
      "outputs": [
        {
          "output_type": "stream",
          "name": "stdout",
          "text": [
            "Downloading and preparing dataset 80.23 MiB (download: 80.23 MiB, generated: Unknown size, total: 80.23 MiB) to /root/tensorflow_datasets/imdb_reviews/plain_text/1.0.0...\n",
            "Dataset imdb_reviews downloaded and prepared to /root/tensorflow_datasets/imdb_reviews/plain_text/1.0.0. Subsequent calls will reuse this data.\n"
          ]
        },
        {
          "output_type": "execute_result",
          "data": {
            "text/plain": [
              "(TensorSpec(shape=(), dtype=tf.string, name=None),\n",
              " TensorSpec(shape=(), dtype=tf.int64, name=None))"
            ]
          },
          "metadata": {},
          "execution_count": 3
        }
      ]
    },
    {
      "cell_type": "markdown",
      "source": [
        "Awalnya ini mengembalikan dataset (teks, pasangan label):"
      ],
      "metadata": {
        "id": "9qWebOWFGkGr"
      }
    },
    {
      "cell_type": "code",
      "source": [
        "for example, label in train_dataset.take(1):\n",
        "  print('text: ', example.numpy())\n",
        "  print('label: ', label.numpy())"
      ],
      "metadata": {
        "id": "fVezyPv-Givd",
        "outputId": "cf17c580-51a6-4023-ca23-914a94825004",
        "colab": {
          "base_uri": "https://localhost:8080/"
        }
      },
      "execution_count": 4,
      "outputs": [
        {
          "output_type": "stream",
          "name": "stdout",
          "text": [
            "text:  b\"This was an absolutely terrible movie. Don't be lured in by Christopher Walken or Michael Ironside. Both are great actors, but this must simply be their worst role in history. Even their great acting could not redeem this movie's ridiculous storyline. This movie is an early nineties US propaganda piece. The most pathetic scenes were those when the Columbian rebels were making their cases for revolutions. Maria Conchita Alonso appeared phony, and her pseudo-love affair with Walken was nothing but a pathetic emotional plug in a movie that was devoid of any real meaning. I am disappointed that there are movies like this, ruining actor's like Christopher Walken's good name. I could barely sit through it.\"\n",
            "label:  0\n"
          ]
        }
      ]
    },
    {
      "cell_type": "markdown",
      "source": [
        "Berikutnya acak data untuk pelatihan dan membuat kumpulan pasangan (teks, label) ini:"
      ],
      "metadata": {
        "id": "u8CFI3j0GlkK"
      }
    },
    {
      "cell_type": "code",
      "source": [
        "BUFFER_SIZE = 10000\n",
        "BATCH_SIZE = 64\n",
        "\n",
        "train_dataset = train_dataset.shuffle(BUFFER_SIZE).batch(BATCH_SIZE).prefetch(tf.data.AUTOTUNE)\n",
        "test_dataset = test_dataset.batch(BATCH_SIZE).prefetch(tf.data.AUTOTUNE)\n",
        "\n",
        "for example, label in train_dataset.take(1):\n",
        "  print('texts: ', example.numpy()[:3])\n",
        "  print()\n",
        "  print('labels: ', label.numpy()[:3])\n"
      ],
      "metadata": {
        "id": "LOWpiZUOGmZT",
        "outputId": "5618a0a5-8fbe-45ef-fd68-e89e10b2ba71",
        "colab": {
          "base_uri": "https://localhost:8080/"
        }
      },
      "execution_count": 5,
      "outputs": [
        {
          "output_type": "stream",
          "name": "stdout",
          "text": [
            "texts:  [b'I rented this on DVD yesterday and did not realize it was a \"character study\" type of movie, so I struggled to watch about an hour of it before hitting the Stop button.<br /><br />Even with a character study theme, I just could not get into this film at all. Perhaps it was my mood in wanting to watch something else, or maybe I had other expectations, but setting that aside, I tried my best to move on to finish watching, but gave up. The actors played their roles well, but the global combination did not come together to keep my interest. About the only interesting thing was the sergeant\\'s gun being stolen and he hurried to buy another one, and spray painted it black to appear as police issue. I think this movie should have been entitled, \"Who Stole the Sergeant\\'s Gun?\" Scenes were well done but putting them together I once again felt robbed for anything cohesive to keep me viewing.<br /><br />Since I didn\\'t finish watching it I\\'d say there is some merit to renting this film ... maybe. To me, it was a waste of good viewing effort and time. I\\'ll leave it up to you to try it, but it\\'s not one I\\'d strongly recommend.'\n",
            " b'This show started out with great mystery episodes. I think everyone is in the first 15 or 16 episodes. After that, the show started playing short episodes with Shaggy, Scooby doo, and Scrappy doo.<br /><br />I think Hanna Barbera Productions had to change 20 minutes episodes into short episodes. Some of the voice actors became unavailable. After 15 or 16 episodes, Frank Welker (who played Fred) became unavailable. I think the voice of Velma changes after first 12 episodes, because the first voice actress who played Velma was unavailable.<br /><br />And the network ordered the Hanna Barbera studio to make more shorts with Shaggy, Scooby doo, and Scrappy doo, because the ratings were high. So they had to make more shorts. I wish they were mysteries like 15 episodes. Still it is a good show.'\n",
            " b'This movie made me very angry. I wanted desperately to throttle the \"scientists\" and unseen film-makers during the course of it. Very, very painful to sit through. Sophomoric and pretentious in the worst way. The little good information on brain function/chemistry and quantum theory is lost in a sea of new agey horse sh*t. The worst offenders were the crack-pot charlatans Ramtha and Joseph Dispenza. Mr. Dispenza informs us that most people lead lives of mediocrity and clearly implies that he, on the other hand, is living on a higher plane. Even the ideas and attitudes that I basically agree with are presented in such a heavy handed, clumsy, superior, pretentious, preachy manner that I felt the desire to disavow them. I think that\\'s what made me so angry, the fact that they\\'ve taken what are indeed profound aspects of established scientific thought and marred them with their new age hokum. Much of it is based around the fallacy of applying concepts of quantum theory to the macro world. Fittingly, the dramatized portions with Marlee Matlin are amateurish and clich\\xc3\\xa9 ridden.<br /><br />I would refer people instead to Bill Bryson\\'s excellent survey of science: \"A Brief History of Nearly Everything.\" There\\'s plenty of profound wonder about life and the universe in the actual, established science.']\n",
            "\n",
            "labels:  [0 1 0]\n"
          ]
        }
      ]
    },
    {
      "cell_type": "markdown",
      "source": [
        "### **Buat Teks Encoder**"
      ],
      "metadata": {
        "id": "tc7B7m7dGn5J"
      }
    },
    {
      "cell_type": "markdown",
      "source": [
        "Teks mentah yang dimuat oleh tfds perlu diproses sebelum dapat digunakan dalam model. Cara termudah memproses teks untuk pelatihan adalah menggunakan lapisan TextVectorization. Lapisan ini memiliki banyak kemampuan, namun pada tutorial ini menggunakan perilaku default. Buat lapisan tersebut, dan teruskan teks kumpulan data ke metode .adapt lapisan:"
      ],
      "metadata": {
        "id": "r5s_Cy35Gq8M"
      }
    },
    {
      "cell_type": "code",
      "source": [
        "VOCAB_SIZE = 1000\n",
        "encoder = tf.keras.layers.TextVectorization(\n",
        "    max_tokens=VOCAB_SIZE)\n",
        "encoder.adapt(train_dataset.map(lambda text, label: text))"
      ],
      "metadata": {
        "id": "SCqmnZ_-Gt66"
      },
      "execution_count": 6,
      "outputs": []
    },
    {
      "cell_type": "markdown",
      "source": [
        "Metode .adapt mengatur kosakata lapisan. 20 token pertama dapat dilihat dengan kode berikut. Setelah padding dan token yang tidak diketahui, mereka diurutkan berdasarkan frekuensi:"
      ],
      "metadata": {
        "id": "QfH7MVKuGvBU"
      }
    },
    {
      "cell_type": "code",
      "source": [
        "vocab = np.array(encoder.get_vocabulary())\n",
        "vocab[:20]"
      ],
      "metadata": {
        "id": "fJOLK2QlGwHq",
        "outputId": "feb66458-4ce6-4306-9c25-40b468d5ba58",
        "colab": {
          "base_uri": "https://localhost:8080/"
        }
      },
      "execution_count": 7,
      "outputs": [
        {
          "output_type": "execute_result",
          "data": {
            "text/plain": [
              "array(['', '[UNK]', 'the', 'and', 'a', 'of', 'to', 'is', 'in', 'it', 'i',\n",
              "       'this', 'that', 'br', 'was', 'as', 'for', 'with', 'movie', 'but'],\n",
              "      dtype='<U14')"
            ]
          },
          "metadata": {},
          "execution_count": 7
        }
      ]
    },
    {
      "cell_type": "markdown",
      "source": [
        "Setelah kosakata diatur, lapisan dapat mengkodekan teks ke dalam indeks. Tensor indeks diberi bantalan 0 ke urutan terpanjang dalam batch (kecuali jika Anda menetapkan output_sequence_length tetap):"
      ],
      "metadata": {
        "id": "TrHlDMVpGy-L"
      }
    },
    {
      "cell_type": "code",
      "source": [
        "encoded_example = encoder(example)[:3].numpy()\n",
        "encoded_example"
      ],
      "metadata": {
        "id": "yetXo2VQG0F3",
        "outputId": "cd429c57-4d6f-425c-9529-3085a5febcff",
        "colab": {
          "base_uri": "https://localhost:8080/"
        }
      },
      "execution_count": 8,
      "outputs": [
        {
          "output_type": "execute_result",
          "data": {
            "text/plain": [
              "array([[ 10,   1,  11, ...,   0,   0,   0],\n",
              "       [ 11, 120, 628, ...,   0,   0,   0],\n",
              "       [ 11,  18,  91, ...,   0,   0,   0]])"
            ]
          },
          "metadata": {},
          "execution_count": 8
        }
      ]
    },
    {
      "cell_type": "markdown",
      "source": [
        "Dengan pengaturan default, prosesnya tidak dapat dibalik sepenuhnya. Ada dua alasan utama untuk itu:\n",
        "- Nilai default untuk argumen standarisasi preprocessing.TextVectorization adalah \"lower_and_strip_punctuation\".\n",
        "- Ukuran kosa kata yang terbatas dan kurangnya fallback berbasis karakter menghasilkan beberapa token yang tidak diketahui."
      ],
      "metadata": {
        "id": "CXL5wN5EG1Og"
      }
    },
    {
      "cell_type": "code",
      "source": [
        "for n in range(3):\n",
        "  print(\"Original: \", example[n].numpy())\n",
        "  print(\"Round-trip: \", \" \".join(vocab[encoded_example[n]]))\n",
        "  print()"
      ],
      "metadata": {
        "id": "xNLLK9a0G26k",
        "outputId": "03820e72-d5ea-4608-e0b1-f06f07036942",
        "colab": {
          "base_uri": "https://localhost:8080/"
        }
      },
      "execution_count": 9,
      "outputs": [
        {
          "output_type": "stream",
          "name": "stdout",
          "text": [
            "Original:  b'I rented this on DVD yesterday and did not realize it was a \"character study\" type of movie, so I struggled to watch about an hour of it before hitting the Stop button.<br /><br />Even with a character study theme, I just could not get into this film at all. Perhaps it was my mood in wanting to watch something else, or maybe I had other expectations, but setting that aside, I tried my best to move on to finish watching, but gave up. The actors played their roles well, but the global combination did not come together to keep my interest. About the only interesting thing was the sergeant\\'s gun being stolen and he hurried to buy another one, and spray painted it black to appear as police issue. I think this movie should have been entitled, \"Who Stole the Sergeant\\'s Gun?\" Scenes were well done but putting them together I once again felt robbed for anything cohesive to keep me viewing.<br /><br />Since I didn\\'t finish watching it I\\'d say there is some merit to renting this film ... maybe. To me, it was a waste of good viewing effort and time. I\\'ll leave it up to you to try it, but it\\'s not one I\\'d strongly recommend.'\n",
            "Round-trip:  i [UNK] this on dvd [UNK] and did not realize it was a character [UNK] type of movie so i [UNK] to watch about an hour of it before [UNK] the stop [UNK] br even with a character [UNK] theme i just could not get into this film at all perhaps it was my [UNK] in [UNK] to watch something else or maybe i had other [UNK] but setting that [UNK] i tried my best to move on to [UNK] watching but gave up the actors played their roles well but the [UNK] [UNK] did not come together to keep my interest about the only interesting thing was the [UNK] [UNK] being [UNK] and he [UNK] to buy another one and [UNK] [UNK] it black to appear as police [UNK] i think this movie should have been [UNK] who [UNK] the [UNK] [UNK] scenes were well done but [UNK] them together i once again felt [UNK] for anything [UNK] to keep me [UNK] br since i didnt [UNK] watching it id say there is some [UNK] to [UNK] this film maybe to me it was a waste of good viewing effort and time ill leave it up to you to try it but its not one id [UNK] recommend                                                                                                                                                                                                                                                                                                                                                                                                                                                                                                                                                                                                                                                        \n",
            "\n",
            "Original:  b'This show started out with great mystery episodes. I think everyone is in the first 15 or 16 episodes. After that, the show started playing short episodes with Shaggy, Scooby doo, and Scrappy doo.<br /><br />I think Hanna Barbera Productions had to change 20 minutes episodes into short episodes. Some of the voice actors became unavailable. After 15 or 16 episodes, Frank Welker (who played Fred) became unavailable. I think the voice of Velma changes after first 12 episodes, because the first voice actress who played Velma was unavailable.<br /><br />And the network ordered the Hanna Barbera studio to make more shorts with Shaggy, Scooby doo, and Scrappy doo, because the ratings were high. So they had to make more shorts. I wish they were mysteries like 15 episodes. Still it is a good show.'\n",
            "Round-trip:  this show started out with great mystery episodes i think everyone is in the first [UNK] or [UNK] episodes after that the show started playing short episodes with [UNK] [UNK] [UNK] and [UNK] [UNK] br i think [UNK] [UNK] [UNK] had to change 20 minutes episodes into short episodes some of the voice actors became [UNK] after [UNK] or [UNK] episodes [UNK] [UNK] who played [UNK] became [UNK] i think the voice of [UNK] [UNK] after first [UNK] episodes because the first voice actress who played [UNK] was [UNK] br and the [UNK] [UNK] the [UNK] [UNK] [UNK] to make more [UNK] with [UNK] [UNK] [UNK] and [UNK] [UNK] because the [UNK] were high so they had to make more [UNK] i wish they were [UNK] like [UNK] episodes still it is a good show                                                                                                                                                                                                                                                                                                                                                                                                                                                                                                                                                                                                                                                                                                                                  \n",
            "\n",
            "Original:  b'This movie made me very angry. I wanted desperately to throttle the \"scientists\" and unseen film-makers during the course of it. Very, very painful to sit through. Sophomoric and pretentious in the worst way. The little good information on brain function/chemistry and quantum theory is lost in a sea of new agey horse sh*t. The worst offenders were the crack-pot charlatans Ramtha and Joseph Dispenza. Mr. Dispenza informs us that most people lead lives of mediocrity and clearly implies that he, on the other hand, is living on a higher plane. Even the ideas and attitudes that I basically agree with are presented in such a heavy handed, clumsy, superior, pretentious, preachy manner that I felt the desire to disavow them. I think that\\'s what made me so angry, the fact that they\\'ve taken what are indeed profound aspects of established scientific thought and marred them with their new age hokum. Much of it is based around the fallacy of applying concepts of quantum theory to the macro world. Fittingly, the dramatized portions with Marlee Matlin are amateurish and clich\\xc3\\xa9 ridden.<br /><br />I would refer people instead to Bill Bryson\\'s excellent survey of science: \"A Brief History of Nearly Everything.\" There\\'s plenty of profound wonder about life and the universe in the actual, established science.'\n",
            "Round-trip:  this movie made me very [UNK] i wanted [UNK] to [UNK] the [UNK] and [UNK] filmmakers during the course of it very very [UNK] to sit through [UNK] and [UNK] in the worst way the little good [UNK] on [UNK] [UNK] and [UNK] [UNK] is lost in a [UNK] of new [UNK] [UNK] [UNK] the worst [UNK] were the [UNK] [UNK] [UNK] and [UNK] [UNK] mr [UNK] [UNK] us that most people lead lives of [UNK] and clearly [UNK] that he on the other hand is living on a [UNK] [UNK] even the ideas and [UNK] that i basically [UNK] with are [UNK] in such a [UNK] [UNK] [UNK] [UNK] [UNK] [UNK] [UNK] that i felt the [UNK] to [UNK] them i think thats what made me so [UNK] the fact that [UNK] taken what are indeed [UNK] [UNK] of [UNK] [UNK] thought and [UNK] them with their new age [UNK] much of it is based around the [UNK] of [UNK] [UNK] of [UNK] [UNK] to the [UNK] world [UNK] the [UNK] [UNK] with [UNK] [UNK] are [UNK] and [UNK] [UNK] br i would [UNK] people instead to bill [UNK] excellent [UNK] of [UNK] a [UNK] history of nearly everything theres plenty of [UNK] wonder about life and the [UNK] in the actual [UNK] [UNK]                                                                                                                                                                                                                                                                                                                                                                                                                                                                                                                                                                                                                                                  \n",
            "\n"
          ]
        }
      ]
    },
    {
      "cell_type": "markdown",
      "source": [
        "### **Buat Model**"
      ],
      "metadata": {
        "id": "4aamc3A2G4OK"
      }
    },
    {
      "cell_type": "markdown",
      "source": [
        "![image.png](data:image/png;base64,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)"
      ],
      "metadata": {
        "id": "dNMq6iwyvGjR"
      }
    },
    {
      "cell_type": "markdown",
      "source": [
        "Diagram model dapat dilihat pada gambar diatas\n",
        "1. Model ini dapat dibuat sebagai tf.keras.Sequential.\n",
        "2. Lapisan pertama adalah encoder, yang mengubah teks menjadi urutan indeks token.\n",
        "3. Setelah encoder adalah lapisan penyematan (embedding layer). Lapisan penyematan menyimpan satu vektor per kata. Saat dipanggil, ini mengubah rangkaian indeks kata menjadi rangkaian vektor. Vektor-vektor ini dapat dilatih. Setelah pelatihan (dengan data yang cukup), kata-kata dengan arti yang mirip sering kali memiliki vektor yang serupa. Pencarian indeks ini jauh lebih efisien daripada operasi setara dengan meneruskan vektor yang disandikan one-hot melalui lapisan tf.keras.layers.Dense.\n",
        "4. Jaringan saraf berulang (RNN) memproses masukan urutan dengan melakukan iterasi melalui elemen. RNN meneruskan keluaran dari satu langkah waktu ke masukannya pada langkah waktu berikutnya.\n",
        "Pembungkus tf.keras.layers.Bidirection juga dapat digunakan dengan lapisan RNN. Ini menyebarkan masukan maju dan mundur melalui lapisan RNN dan kemudian menggabungkan keluaran akhir.\n",
        "  - Keuntungan utama RNN dua arah adalah sinyal dari awal masukan tidak perlu diproses sepanjang waktu untuk memengaruhi keluaran.\n",
        "  - Kerugian utama dari RNN dua arah adalah Anda tidak dapat melakukan streaming prediksi secara efisien saat kata-kata ditambahkan di akhir.\n",
        "5. Setelah RNN mengonversi urutan menjadi satu vektor, kedua lapisan tersebut.Dense melakukan beberapa pemrosesan akhir, dan mengonversi representasi vektor ini menjadi logit tunggal sebagai keluaran klasifikasi."
      ],
      "metadata": {
        "id": "oXFzf9nbG9jE"
      }
    },
    {
      "cell_type": "markdown",
      "source": [
        "Kode nya adalah sebagai berikut :"
      ],
      "metadata": {
        "id": "6Vx8qHDiHHps"
      }
    },
    {
      "cell_type": "code",
      "source": [
        "model = tf.keras.Sequential([\n",
        "    encoder,\n",
        "    tf.keras.layers.Embedding(\n",
        "        input_dim=len(encoder.get_vocabulary()),\n",
        "        output_dim=64,\n",
        "        # Use masking to handle the variable sequence lengths\n",
        "        mask_zero=True),\n",
        "    tf.keras.layers.Bidirectional(tf.keras.layers.LSTM(64)),\n",
        "    tf.keras.layers.Dense(64, activation='relu'),\n",
        "    tf.keras.layers.Dense(1)\n",
        "])"
      ],
      "metadata": {
        "id": "BljMXJN7HIrz"
      },
      "execution_count": 10,
      "outputs": []
    },
    {
      "cell_type": "markdown",
      "source": [
        "Harap dicatat bahwa model sekuensial Keras digunakan di sini karena semua lapisan dalam model hanya memiliki masukan tunggal dan menghasilkan keluaran tunggal. Jika Anda ingin menggunakan lapisan RNN stateful, Anda mungkin ingin membangun model Anda dengan API fungsional Keras atau subkelas model sehingga Anda dapat mengambil dan menggunakan kembali status lapisan RNN. Untuk detailnya bisa dilihat pada [Keras RNN guide](https://www.tensorflow.org/guide/keras/rnn#rnn_state_reuse)\n",
        "\n",
        "Lapisan penyematan menggunakan masking ([uses masking](https://www.tensorflow.org/guide/keras/masking_and_padding)) untuk menangani panjang urutan yang bervariasi. Semua lapisan setelah penyematan dukungan penyematan"
      ],
      "metadata": {
        "id": "asv1Mt5oHK-L"
      }
    },
    {
      "cell_type": "code",
      "source": [
        "print([layer.supports_masking for layer in model.layers])"
      ],
      "metadata": {
        "id": "YoFTGU0QHdF3",
        "outputId": "31a283b5-4f50-49a4-fdfd-ae46895cef05",
        "colab": {
          "base_uri": "https://localhost:8080/"
        }
      },
      "execution_count": 11,
      "outputs": [
        {
          "output_type": "stream",
          "name": "stdout",
          "text": [
            "[False, True, True, True, True]\n"
          ]
        }
      ]
    },
    {
      "cell_type": "code",
      "source": [
        "for i, layer in enumerate(model.layers): print(f\"Layer {i}: {layer}\")"
      ],
      "metadata": {
        "id": "tlBlEj5FvQzy",
        "outputId": "65e21451-e108-4a12-bd5e-ecb17aeb4754",
        "colab": {
          "base_uri": "https://localhost:8080/"
        }
      },
      "execution_count": 12,
      "outputs": [
        {
          "output_type": "stream",
          "name": "stdout",
          "text": [
            "Layer 0: <keras.src.layers.preprocessing.text_vectorization.TextVectorization object at 0x793670189e40>\n",
            "Layer 1: <keras.src.layers.core.embedding.Embedding object at 0x793668eb7ac0>\n",
            "Layer 2: <keras.src.layers.rnn.bidirectional.Bidirectional object at 0x793668eb66e0>\n",
            "Layer 3: <keras.src.layers.core.dense.Dense object at 0x793668eb4b80>\n",
            "Layer 4: <keras.src.layers.core.dense.Dense object at 0x793668eb49d0>\n"
          ]
        }
      ]
    },
    {
      "cell_type": "markdown",
      "source": [
        "Untuk memastikan bahwa ini berfungsi seperti yang diharapkan, evaluasi sebuah kalimat dua kali. Pertama, satu kalimat sehingga tidak ada bantalan (padding) untuk disamarkan:"
      ],
      "metadata": {
        "id": "nCNWVQw-Hf3q"
      }
    },
    {
      "cell_type": "code",
      "source": [
        "# predict on a sample text without padding.\n",
        "\n",
        "sample_text = ('The movie was cool. The animation and the graphics '\n",
        "               'were out of this world. I would recommend this movie.')\n",
        "predictions = model.predict(np.array([sample_text]))\n",
        "print(predictions[0])"
      ],
      "metadata": {
        "id": "PDqFuu_pHeuh",
        "outputId": "e3bfad3f-f10f-4fe5-a417-1dd7b13f5def",
        "colab": {
          "base_uri": "https://localhost:8080/"
        }
      },
      "execution_count": 13,
      "outputs": [
        {
          "output_type": "stream",
          "name": "stdout",
          "text": [
            "1/1 [==============================] - 3s 3s/step\n",
            "[0.00704807]\n"
          ]
        }
      ]
    },
    {
      "cell_type": "markdown",
      "source": [
        "Sekarang, evaluasi lagi dalam batch dengan kalimat yang lebih panjang. Hasilnya harus sama:"
      ],
      "metadata": {
        "id": "jQOgTpgDHg62"
      }
    },
    {
      "cell_type": "code",
      "source": [
        "# predict on a sample text with padding\n",
        "\n",
        "padding = \"the \" * 2000\n",
        "predictions = model.predict(np.array([sample_text, padding]))\n",
        "print(predictions[0])"
      ],
      "metadata": {
        "id": "EIcEfK7FHhmo",
        "outputId": "9ae9484c-bd69-4a92-a320-106b6986d51a",
        "colab": {
          "base_uri": "https://localhost:8080/"
        }
      },
      "execution_count": 14,
      "outputs": [
        {
          "output_type": "stream",
          "name": "stdout",
          "text": [
            "1/1 [==============================] - 1s 506ms/step\n",
            "[0.00704807]\n"
          ]
        }
      ]
    },
    {
      "cell_type": "markdown",
      "source": [
        "compile model Keras untuk mengonfigurasi proses pelatihan:"
      ],
      "metadata": {
        "id": "te4Kg4yLHi2C"
      }
    },
    {
      "cell_type": "code",
      "source": [
        "model.compile(loss=tf.keras.losses.BinaryCrossentropy(from_logits=True),\n",
        "              optimizer=tf.keras.optimizers.Adam(1e-4),\n",
        "              metrics=['accuracy'])"
      ],
      "metadata": {
        "id": "1Lebh9-8Hj0Q"
      },
      "execution_count": 15,
      "outputs": []
    },
    {
      "cell_type": "markdown",
      "source": [
        "### **Train Model**"
      ],
      "metadata": {
        "id": "9_kDX6lMHlHn"
      }
    },
    {
      "cell_type": "code",
      "source": [
        "history = model.fit(train_dataset, epochs=10,\n",
        "                    validation_data=test_dataset,\n",
        "                    validation_steps=30)"
      ],
      "metadata": {
        "id": "zwqf0hP9HmaZ"
      },
      "execution_count": null,
      "outputs": []
    },
    {
      "cell_type": "code",
      "source": [
        "test_loss, test_acc = model.evaluate(test_dataset)\n",
        "\n",
        "print('Test Loss:', test_loss)\n",
        "print('Test Accuracy:', test_acc)"
      ],
      "metadata": {
        "id": "fr8uKOQyHny8"
      },
      "execution_count": null,
      "outputs": []
    },
    {
      "cell_type": "code",
      "source": [
        "plt.figure(figsize=(16, 8))\n",
        "plt.subplot(1, 2, 1)\n",
        "plot_graphs(history, 'accuracy')\n",
        "plt.ylim(None, 1)\n",
        "plt.subplot(1, 2, 2)\n",
        "plot_graphs(history, 'loss')\n",
        "plt.ylim(0, None)"
      ],
      "metadata": {
        "id": "1QS06ALtHo0T"
      },
      "execution_count": null,
      "outputs": []
    },
    {
      "cell_type": "markdown",
      "source": [
        "Jalankan prediksi pada kalimat baru:\n",
        "\n",
        "Jika prediksi >= 0,0 berarti positif, jika tidak maka negatif."
      ],
      "metadata": {
        "id": "iAm4uV71HqNa"
      }
    },
    {
      "cell_type": "code",
      "source": [
        "sample_text = ('The movie was cool. The animation and the graphics '\n",
        "               'were out of this world. I would recommend this movie.')\n",
        "predictions = model.predict(np.array([sample_text]))"
      ],
      "metadata": {
        "id": "lS1HjgmDHrr6"
      },
      "execution_count": null,
      "outputs": []
    },
    {
      "cell_type": "markdown",
      "source": [
        "### **Stack two or more LSTM layers**"
      ],
      "metadata": {
        "id": "JNCKRHBVHxqO"
      }
    },
    {
      "cell_type": "markdown",
      "source": [
        "Lapisan berulang Keras memiliki dua mode yang tersedia yang dikontrol oleh argumen konstruktor return_sequences :\n",
        "- Jika False, ia hanya mengembalikan keluaran terakhir untuk setiap urutan masukan (bentuk tensor 2D (batch_size, output_features)). Ini adalah default yang digunakan pada model sebelumnya.\n",
        "- Jika True, Sequence lengkap output berturut-turut untuk setiap langkah waktu dikembalikan (bentuk tensor 3D (ukuran_batch, langkah waktu, fitur_output))."
      ],
      "metadata": {
        "id": "SL6hufIjHzm9"
      }
    },
    {
      "cell_type": "markdown",
      "source": [
        "Berikut adalah alur informasi dengan return_sequences=True:\n",
        "\n",
        "Hal yang menarik dari penggunaan RNN dengan return_sequences=True adalah outputnya masih memiliki 3 axis, sama seperti inputnya, sehingga bisa diteruskan ke layer RNN lain, seperti ini:"
      ],
      "metadata": {
        "id": "-JhE9pwtIFfO"
      }
    },
    {
      "cell_type": "code",
      "source": [
        "model = tf.keras.Sequential([\n",
        "    encoder,\n",
        "    tf.keras.layers.Embedding(len(encoder.get_vocabulary()), 64, mask_zero=True),\n",
        "    tf.keras.layers.Bidirectional(tf.keras.layers.LSTM(64,  return_sequences=True)),\n",
        "    tf.keras.layers.Bidirectional(tf.keras.layers.LSTM(32)),\n",
        "    tf.keras.layers.Dense(64, activation='relu'),\n",
        "    tf.keras.layers.Dropout(0.5),\n",
        "    tf.keras.layers.Dense(1)\n",
        "])"
      ],
      "metadata": {
        "id": "RpgwuQVYIH1e"
      },
      "execution_count": null,
      "outputs": []
    },
    {
      "cell_type": "code",
      "source": [
        "model.compile(loss=tf.keras.losses.BinaryCrossentropy(from_logits=True),\n",
        "              optimizer=tf.keras.optimizers.Adam(1e-4),\n",
        "              metrics=['accuracy'])"
      ],
      "metadata": {
        "id": "TUGcbe3OII-I"
      },
      "execution_count": null,
      "outputs": []
    },
    {
      "cell_type": "code",
      "source": [
        "history = model.fit(train_dataset, epochs=10,\n",
        "                    validation_data=test_dataset,\n",
        "                    validation_steps=30)"
      ],
      "metadata": {
        "id": "2sfRVwMzIJ73"
      },
      "execution_count": null,
      "outputs": []
    },
    {
      "cell_type": "code",
      "source": [
        "test_loss, test_acc = model.evaluate(test_dataset)\n",
        "\n",
        "print('Test Loss:', test_loss)\n",
        "print('Test Accuracy:', test_acc)"
      ],
      "metadata": {
        "id": "_hBcvyN0IK7b"
      },
      "execution_count": null,
      "outputs": []
    },
    {
      "cell_type": "code",
      "source": [
        "# predict on a sample text without padding.\n",
        "\n",
        "sample_text = ('The movie was not good. The animation and the graphics '\n",
        "               'were terrible. I would not recommend this movie.')\n",
        "predictions = model.predict(np.array([sample_text]))\n",
        "print(predictions)"
      ],
      "metadata": {
        "id": "nUpD8p95ILtq"
      },
      "execution_count": null,
      "outputs": []
    },
    {
      "cell_type": "code",
      "source": [
        "plt.figure(figsize=(16, 6))\n",
        "plt.subplot(1, 2, 1)\n",
        "plot_graphs(history, 'accuracy')\n",
        "plt.subplot(1, 2, 2)\n",
        "plot_graphs(history, 'loss')"
      ],
      "metadata": {
        "id": "WXm5LEghIM33"
      },
      "execution_count": null,
      "outputs": []
    },
    {
      "cell_type": "markdown",
      "source": [
        "## **Praktikum 2: Generator Teks dengan RNN**"
      ],
      "metadata": {
        "id": "HU-MHf21FsV8"
      }
    },
    {
      "cell_type": "markdown",
      "source": [
        "## **Tugas**"
      ],
      "metadata": {
        "id": "Ml0geNMgFyCw"
      }
    },
    {
      "cell_type": "code",
      "execution_count": null,
      "metadata": {
        "id": "5A_tIkHAFgxs"
      },
      "outputs": [],
      "source": []
    }
  ]
}
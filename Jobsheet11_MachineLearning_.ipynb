{
  "nbformat": 4,
  "nbformat_minor": 0,
  "metadata": {
    "colab": {
      "provenance": [],
      "authorship_tag": "ABX9TyORJ5kVg2zXgUkhDwgjdNDW",
      "include_colab_link": true
    },
    "kernelspec": {
      "name": "python3",
      "display_name": "Python 3"
    },
    "language_info": {
      "name": "python"
    }
  },
  "cells": [
    {
      "cell_type": "markdown",
      "metadata": {
        "id": "view-in-github",
        "colab_type": "text"
      },
      "source": [
        "<a href=\"https://colab.research.google.com/github/alfisuryap/MachineLearning/blob/main/Jobsheet11_MachineLearning_.ipynb\" target=\"_parent\"><img src=\"https://colab.research.google.com/assets/colab-badge.svg\" alt=\"Open In Colab\"/></a>"
      ]
    },
    {
      "cell_type": "markdown",
      "source": [
        "# **Jobsheet 11: Convolutional Neural Network (CNN)**"
      ],
      "metadata": {
        "id": "LXVeWrbqtMCN"
      }
    },
    {
      "cell_type": "markdown",
      "source": [
        "Nama: Alfi Surya Pratama\n",
        "\n",
        "NIM: 2141720075\n",
        "\n",
        "Kelas: TI-3D\n",
        "\n",
        "Mata Kuliah: Machine Learning"
      ],
      "metadata": {
        "id": "3A-jim7xtLAl"
      }
    },
    {
      "cell_type": "markdown",
      "source": [
        "## **Praktikum 1: Klasifikasi 🐱 dan 🐶**"
      ],
      "metadata": {
        "id": "Z_dWOCHutRXX"
      }
    },
    {
      "cell_type": "markdown",
      "source": [
        "### **Deskripsi**"
      ],
      "metadata": {
        "id": "iwOckZtztch9"
      }
    },
    {
      "cell_type": "markdown",
      "source": [
        "Pada praktikum ini kita akan membuat model klasifikasi CNN sederhana pada kasus citra kucing dan anjing."
      ],
      "metadata": {
        "id": "FuLKrIA1thze"
      }
    },
    {
      "cell_type": "markdown",
      "source": [
        "### **Dataset**"
      ],
      "metadata": {
        "id": "6b3cClX4tjB1"
      }
    },
    {
      "cell_type": "markdown",
      "source": [
        "Dataset merupakan data citra anjing dan kucing yang telah dibagi menjadi data training dan data testing. Dikarenakan data cukup besar, pastikan koneksi Anda sebelum mengunduh dataset."
      ],
      "metadata": {
        "id": "Ex7fAcW9tk4S"
      }
    },
    {
      "cell_type": "markdown",
      "source": [
        "### **Langkah 1 - Import Library**"
      ],
      "metadata": {
        "id": "936VkxVIuOhY"
      }
    },
    {
      "cell_type": "code",
      "source": [
        "import tensorflow as tf\n",
        "from keras.preprocessing.image import ImageDataGenerator"
      ],
      "metadata": {
        "id": "CJ6mskZQuZ4d"
      },
      "execution_count": null,
      "outputs": []
    },
    {
      "cell_type": "markdown",
      "source": [
        "### **Langkah 2 - Pra Pengolahan Data**"
      ],
      "metadata": {
        "id": "wHUbpjcpuObK"
      }
    },
    {
      "cell_type": "markdown",
      "source": [
        "Pada tahap ini kita akan sedikit melakukan manipulasi pada citra yang digunakan. Manipulasi yang dilakukan diantaranya adalah normalisasi nilai piksel, koreksi kemiringan, pembesaran (zoom), dan flip."
      ],
      "metadata": {
        "id": "0xpjbbeduccg"
      }
    },
    {
      "cell_type": "markdown",
      "source": [
        "#### **Langkah 2.1. Pra Pengolahan Data Training**"
      ],
      "metadata": {
        "id": "4dqJMXeMufXO"
      }
    },
    {
      "cell_type": "code",
      "source": [
        "train_datagen = ImageDataGenerator(rescale = 1./255,\n",
        "                                   shear_range = 0.2,\n",
        "                                   zoom_range = 0.2,\n",
        "                                   horizontal_flip = True)\n",
        "training_set = train_datagen.flow_from_directory('dataset/training_set',\n",
        "                                                 target_size = (64, 64),\n",
        "                                                 batch_size = 32,\n",
        "                                                 class_mode = 'binary')"
      ],
      "metadata": {
        "id": "C7ciyXF-ukgZ"
      },
      "execution_count": null,
      "outputs": []
    },
    {
      "cell_type": "markdown",
      "source": [
        "#### **Langkah 2.2. Pra Pengolahan Data Testing**"
      ],
      "metadata": {
        "id": "5ULwBSB3unSx"
      }
    },
    {
      "cell_type": "code",
      "source": [
        "test_datagen = ImageDataGenerator(rescale = 1./255)\n",
        "test_set = test_datagen.flow_from_directory('dataset/test_set',\n",
        "                                            target_size = (64, 64),\n",
        "                                            batch_size = 32,\n",
        "                                            class_mode = 'binary')"
      ],
      "metadata": {
        "id": "Rej1eFQhurMi"
      },
      "execution_count": null,
      "outputs": []
    },
    {
      "cell_type": "markdown",
      "source": [
        "### **Langkah 3 - Pembuatan Model CNN**"
      ],
      "metadata": {
        "id": "CNt14KF9uynR"
      }
    },
    {
      "cell_type": "markdown",
      "source": [
        "#### **Langkah 3.1.  - Inisiasi Model CNN**"
      ],
      "metadata": {
        "id": "ItrYgWFiu0Z1"
      }
    },
    {
      "cell_type": "code",
      "source": [
        "cnn = tf.keras.models.Sequential()"
      ],
      "metadata": {
        "id": "wjplhLe1u3W7"
      },
      "execution_count": null,
      "outputs": []
    },
    {
      "cell_type": "markdown",
      "source": [
        "#### **Langkah 3.2. - Pembuatan Layer Konvolusi 1**"
      ],
      "metadata": {
        "id": "8YCE_5fgu16b"
      }
    },
    {
      "cell_type": "code",
      "source": [
        "cnn.add(tf.keras.layers.Conv2D(filters=32, kernel_size=3, activation='relu', input_shape=[64, 64, 3]))"
      ],
      "metadata": {
        "id": "XeHoFKSlv_Z1"
      },
      "execution_count": null,
      "outputs": []
    },
    {
      "cell_type": "markdown",
      "source": [
        "#### **Langkah 3.3 - Pembuatan Layer Pooling 1**"
      ],
      "metadata": {
        "id": "MEvR6lZ8wS-J"
      }
    },
    {
      "cell_type": "code",
      "source": [
        "cnn.add(tf.keras.layers.MaxPool2D(pool_size=2, strides=2))"
      ],
      "metadata": {
        "id": "LQOE7WrCwVjc"
      },
      "execution_count": null,
      "outputs": []
    },
    {
      "cell_type": "markdown",
      "source": [
        "#### **Langkah 3.4 - Pembuatan Layer Konvolusi 2 dan Pooling 2**"
      ],
      "metadata": {
        "id": "Amnrua7dwXF2"
      }
    },
    {
      "cell_type": "code",
      "source": [
        "cnn.add(tf.keras.layers.Conv2D(filters=32, kernel_size=3, activation='relu'))\n",
        "cnn.add(tf.keras.layers.MaxPool2D(pool_size=2, strides=2))"
      ],
      "metadata": {
        "id": "BYMhhTa1waTo"
      },
      "execution_count": null,
      "outputs": []
    },
    {
      "cell_type": "markdown",
      "source": [
        "#### **Langkah 3.5 - Flattening**"
      ],
      "metadata": {
        "id": "r3nDaaQowZ_i"
      }
    },
    {
      "cell_type": "code",
      "source": [
        "cnn.add(tf.keras.layers.Flatten())"
      ],
      "metadata": {
        "id": "yYwdkfIUwnGo"
      },
      "execution_count": null,
      "outputs": []
    },
    {
      "cell_type": "markdown",
      "source": [
        "#### **Langkah 3.6 - Fully Connected Layer 1 (Input)**"
      ],
      "metadata": {
        "id": "r22KwyL8woaM"
      }
    },
    {
      "cell_type": "code",
      "source": [
        "cnn.add(tf.keras.layers.Dense(units=128, activation='relu'))"
      ],
      "metadata": {
        "id": "xZdHJVWcwqP6"
      },
      "execution_count": null,
      "outputs": []
    },
    {
      "cell_type": "markdown",
      "source": [
        "#### **Langkah 3.7 - Fully Connected Layer 2 (Output)**"
      ],
      "metadata": {
        "id": "PqozlR8Ewrhs"
      }
    },
    {
      "cell_type": "code",
      "source": [
        "cnn.add(tf.keras.layers.Dense(units=1, activation='sigmoid'))"
      ],
      "metadata": {
        "id": "cvKHcbDewu-g"
      },
      "execution_count": null,
      "outputs": []
    },
    {
      "cell_type": "markdown",
      "source": [
        "#### **Langkah 3.8 - Compile Model CNN**"
      ],
      "metadata": {
        "id": "v9kUntdPwxkc"
      }
    },
    {
      "cell_type": "code",
      "source": [
        "cnn.compile(optimizer = 'adam', loss = 'binary_crossentropy', metrics = ['accuracy'])"
      ],
      "metadata": {
        "id": "X3IvPGLpwzlB"
      },
      "execution_count": null,
      "outputs": []
    },
    {
      "cell_type": "markdown",
      "source": [
        "Penggunaan ***loss function binary crossentropy*** dikarenakan kita hanya melakukan klasifikasi pada dua kelas, yaitu kucing dan anjing."
      ],
      "metadata": {
        "id": "TSG6fggDw1Nt"
      }
    },
    {
      "cell_type": "markdown",
      "source": [
        "### **Langkah 4 - Fit CNN**"
      ],
      "metadata": {
        "id": "-WUurjE5w75F"
      }
    },
    {
      "cell_type": "code",
      "source": [
        "cnn.fit(x = training_set, validation_data = test_set, epochs = 25)"
      ],
      "metadata": {
        "id": "RCk3sFrsxAAm"
      },
      "execution_count": null,
      "outputs": []
    },
    {
      "cell_type": "markdown",
      "source": [
        "### **Langkah 5 - Prediksi dengan 1 Citra**"
      ],
      "metadata": {
        "id": "7Sm8PZzcw-St"
      }
    },
    {
      "cell_type": "markdown",
      "source": [
        "Pada langkah ini, kita akan mencoba melakukan prediksi pada 1 citra anjing dan kucing."
      ],
      "metadata": {
        "id": "prFSadQSxCNx"
      }
    },
    {
      "cell_type": "code",
      "source": [
        "import numpy as np\n",
        "from keras.preprocessing import image\n",
        "test_image = image.load_img('dataset/single_prediction/cat_or_dog_1.jpg', target_size = (64, 64))\n",
        "test_image = image.img_to_array(test_image)\n",
        "test_image = np.expand_dims(test_image, axis = 0)\n",
        "result = cnn.predict(test_image)\n",
        "training_set.class_indices\n",
        "if result[0][0] == 1:\n",
        "  prediction = 'dog'\n",
        "else:\n",
        "  prediction = 'cat'"
      ],
      "metadata": {
        "id": "n96TLc_yxEB4"
      },
      "execution_count": null,
      "outputs": []
    },
    {
      "cell_type": "markdown",
      "source": [
        "## **Praktikum 2: Klasifikasi Multi-label dengan Data CIFAR**"
      ],
      "metadata": {
        "id": "blc_qgMYtXAj"
      }
    },
    {
      "cell_type": "markdown",
      "source": [
        "**Desclaimer**: Praktikum ini merupakan tutorial CNN dari Tensorflow yang dapat diakses pada laman https://www.tensorflow.org/tutorials/images/cnn"
      ],
      "metadata": {
        "id": "16epcVATxlEd"
      }
    },
    {
      "cell_type": "markdown",
      "source": [
        "### **Deskripsi**"
      ],
      "metadata": {
        "id": "FR0wdqLSxnuO"
      }
    },
    {
      "cell_type": "markdown",
      "source": [
        "Pada praktikum ini kita akan membuat model CNN untuk mengklasifikasikan 10 objek dari dataset CIFAR. Dataset terdiri dari 60.000 citra dan setiap label terdiri dari 6.000 citra. Dataset telah dibagi menjadi 50.000 data training dan 10.000 data testing."
      ],
      "metadata": {
        "id": "JCq3PumYxpvI"
      }
    },
    {
      "cell_type": "markdown",
      "source": [
        "### **Langkah 1 - Load Library**"
      ],
      "metadata": {
        "id": "ZW8gA8dDxs8X"
      }
    },
    {
      "cell_type": "code",
      "source": [
        "import tensorflow as tf\n",
        "\n",
        "from tensorflow.keras import datasets, layers, models\n",
        "import matplotlib.pyplot as plt"
      ],
      "metadata": {
        "id": "3fV8E-M9yCyg"
      },
      "execution_count": null,
      "outputs": []
    },
    {
      "cell_type": "markdown",
      "source": [
        "### **Langkah 2 - Unduh Dataset CIFAR**"
      ],
      "metadata": {
        "id": "eB0v-outx5Oi"
      }
    },
    {
      "cell_type": "code",
      "source": [
        "(train_images, train_labels), (test_images, test_labels) = datasets.cifar10.load_data()\n",
        "\n",
        "# Normalize pixel values to be between 0 and 1\n",
        "train_images, test_images = train_images / 255.0, test_images / 255.0"
      ],
      "metadata": {
        "id": "Rjaf5a4Sx7LA"
      },
      "execution_count": null,
      "outputs": []
    },
    {
      "cell_type": "markdown",
      "source": [
        "### **Langkah 3 - Verifikasi Data**"
      ],
      "metadata": {
        "id": "WiP_vWuqyGls"
      }
    },
    {
      "cell_type": "code",
      "source": [
        "class_names = ['airplane', 'automobile', 'bird', 'cat', 'deer',\n",
        "               'dog', 'frog', 'horse', 'ship', 'truck']\n",
        "\n",
        "plt.figure(figsize=(10,10))\n",
        "for i in range(25):\n",
        "    plt.subplot(5,5,i+1)\n",
        "    plt.xticks([])\n",
        "    plt.yticks([])\n",
        "    plt.grid(False)\n",
        "    plt.imshow(train_images[i])\n",
        "    # The CIFAR labels happen to be arrays,\n",
        "    # which is why you need the extra index\n",
        "    plt.xlabel(class_names[train_labels[i][0]])\n",
        "plt.show()"
      ],
      "metadata": {
        "id": "mTqDO_YdyIbr"
      },
      "execution_count": null,
      "outputs": []
    },
    {
      "cell_type": "markdown",
      "source": [
        "### **Langkah 4 - Buat Model CNN**"
      ],
      "metadata": {
        "id": "HZQNrEimyMC8"
      }
    },
    {
      "cell_type": "markdown",
      "source": [
        "#### **Langkah 4.1. - Buat Layer Konvolusi**"
      ],
      "metadata": {
        "id": "xKPVAUW1yNhd"
      }
    },
    {
      "cell_type": "code",
      "source": [
        "model = models.Sequential()\n",
        "model.add(layers.Conv2D(32, (3, 3), activation='relu', input_shape=(32, 32, 3)))\n",
        "model.add(layers.MaxPooling2D((2, 2)))\n",
        "model.add(layers.Conv2D(64, (3, 3), activation='relu'))\n",
        "model.add(layers.MaxPooling2D((2, 2)))\n",
        "model.add(layers.Conv2D(64, (3, 3), activation='relu'))"
      ],
      "metadata": {
        "id": "0Ovc14CsySy-"
      },
      "execution_count": null,
      "outputs": []
    },
    {
      "cell_type": "markdown",
      "source": [
        "#### **Langkah 4.2. - Cek Arsitektur Konvolusi**"
      ],
      "metadata": {
        "id": "vF0I0jPByUK-"
      }
    },
    {
      "cell_type": "code",
      "source": [
        "model.summary()"
      ],
      "metadata": {
        "id": "eWbVBJ1tyW9Z"
      },
      "execution_count": null,
      "outputs": []
    },
    {
      "cell_type": "markdown",
      "source": [
        "#### **Langkah 4.3. - Tambahkan Layer Fully Connected**"
      ],
      "metadata": {
        "id": "vcN-cRIyyYYA"
      }
    },
    {
      "cell_type": "code",
      "source": [
        "model.add(layers.Flatten())\n",
        "model.add(layers.Dense(64, activation='relu'))\n",
        "model.add(layers.Dense(10))"
      ],
      "metadata": {
        "id": "W58X-N-Yyccr"
      },
      "execution_count": null,
      "outputs": []
    },
    {
      "cell_type": "markdown",
      "source": [
        "#### **Langkah 4.4. - Cek Arsitektur Model CNN**"
      ],
      "metadata": {
        "id": "u4STYIqLydYS"
      }
    },
    {
      "cell_type": "code",
      "source": [
        "model.summary()"
      ],
      "metadata": {
        "id": "zU4_tkJtye5s"
      },
      "execution_count": null,
      "outputs": []
    },
    {
      "cell_type": "markdown",
      "source": [
        "#### **Langkah 4.5. - Compile Model CNN**"
      ],
      "metadata": {
        "id": "islJMQISyil6"
      }
    },
    {
      "cell_type": "code",
      "source": [
        "model.compile(optimizer='adam',\n",
        "              loss=tf.keras.losses.SparseCategoricalCrossentropy(from_logits=True),\n",
        "              metrics=['accuracy'])"
      ],
      "metadata": {
        "id": "I_nG3awZzQNH"
      },
      "execution_count": null,
      "outputs": []
    },
    {
      "cell_type": "markdown",
      "source": [
        "### **Langkah 5 - Fit Model**"
      ],
      "metadata": {
        "id": "M8uYIoxWzRyr"
      }
    },
    {
      "cell_type": "code",
      "source": [
        "history = model.fit(train_images, train_labels, epochs=10,\n",
        "                    validation_data=(test_images, test_labels))"
      ],
      "metadata": {
        "id": "BPZDt2CHzTZA"
      },
      "execution_count": null,
      "outputs": []
    },
    {
      "cell_type": "markdown",
      "source": [
        "### **Langkah 6 - Evaluasi Model**"
      ],
      "metadata": {
        "id": "ro7ff-U4zXxw"
      }
    },
    {
      "cell_type": "code",
      "source": [
        "plt.plot(history.history['accuracy'], label='accuracy')\n",
        "plt.plot(history.history['val_accuracy'], label = 'val_accuracy')\n",
        "plt.xlabel('Epoch')\n",
        "plt.ylabel('Accuracy')\n",
        "plt.ylim([0.5, 1])\n",
        "plt.legend(loc='lower right')\n",
        "\n",
        "test_loss, test_acc = model.evaluate(test_images,  test_labels, verbose=2)"
      ],
      "metadata": {
        "id": "prUVr4dqzZog"
      },
      "execution_count": null,
      "outputs": []
    },
    {
      "cell_type": "markdown",
      "source": [
        "### **Langkah 7 - Cetak Hasil Akurasi**"
      ],
      "metadata": {
        "id": "GvFjIv0Uzboo"
      }
    },
    {
      "cell_type": "code",
      "source": [
        "print(test_acc)"
      ],
      "metadata": {
        "id": "_EOWt0_azdyG"
      },
      "execution_count": null,
      "outputs": []
    },
    {
      "cell_type": "markdown",
      "source": [
        "Berapa akurasi yang Anda dapatkan?"
      ],
      "metadata": {
        "id": "1aRdZc8Nze_s"
      }
    },
    {
      "cell_type": "markdown",
      "source": [
        "## **Tugas**"
      ],
      "metadata": {
        "id": "uYjNQTbXtakL"
      }
    },
    {
      "cell_type": "markdown",
      "source": [
        "- Modifikasi model CNN pada praktikum 2 sehingga didapatkan akurasi testing lebih dari 80%.\n",
        "- Buatlah model CNN untuk klasifikasi dataset MNIST."
      ],
      "metadata": {
        "id": "SV7vceqizk5l"
      }
    },
    {
      "cell_type": "code",
      "execution_count": null,
      "metadata": {
        "id": "99ethtOdtGyK"
      },
      "outputs": [],
      "source": []
    }
  ]
}